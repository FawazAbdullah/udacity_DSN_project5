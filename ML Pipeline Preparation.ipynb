{
 "cells": [
  {
   "cell_type": "markdown",
   "metadata": {},
   "source": [
    "# ML Pipeline Preparation\n",
    "Follow the instructions below to help you create your ML pipeline.\n",
    "### 1. Import libraries and load data from database.\n",
    "- Import Python libraries\n",
    "- Load dataset from database with [`read_sql_table`](https://pandas.pydata.org/pandas-docs/stable/generated/pandas.read_sql_table.html)\n",
    "- Define feature and target variables X and Y"
   ]
  },
  {
   "cell_type": "code",
   "execution_count": 12,
   "metadata": {},
   "outputs": [
    {
     "name": "stdout",
     "output_type": "stream",
     "text": [
      "[nltk_data] Downloading package punkt to /root/nltk_data...\n",
      "[nltk_data]   Package punkt is already up-to-date!\n",
      "[nltk_data] Downloading package wordnet to /root/nltk_data...\n",
      "[nltk_data]   Package wordnet is already up-to-date!\n",
      "[nltk_data] Downloading package averaged_perceptron_tagger to\n",
      "[nltk_data]     /root/nltk_data...\n",
      "[nltk_data]   Package averaged_perceptron_tagger is already up-to-\n",
      "[nltk_data]       date!\n"
     ]
    },
    {
     "data": {
      "text/plain": [
       "True"
      ]
     },
     "execution_count": 12,
     "metadata": {},
     "output_type": "execute_result"
    }
   ],
   "source": [
    "# import libraries\n",
    "import pandas as pd\n",
    "import numpy as np\n",
    "import os\n",
    "import pickle\n",
    "from sqlalchemy import create_engine\n",
    "import re\n",
    "\n",
    "from sklearn.base import BaseEstimator, TransformerMixin\n",
    "from sklearn.model_selection import train_test_split\n",
    "from sklearn.multioutput import MultiOutputClassifier\n",
    "from sklearn.ensemble import RandomForestClassifier, GradientBoostingClassifier,AdaBoostClassifier\n",
    "from sklearn.feature_extraction.text import CountVectorizer, TfidfTransformer\n",
    "from sklearn.pipeline import Pipeline, FeatureUnion\n",
    "from sklearn.model_selection import GridSearchCV\n",
    "from sklearn.metrics import precision_recall_fscore_support\n",
    "from sklearn.metrics import make_scorer, accuracy_score, f1_score, fbeta_score, classification_report\n",
    "from scipy.stats import hmean\n",
    "from scipy.stats.mstats import gmean\n",
    "\n",
    "import nltk\n",
    "from nltk.tokenize import word_tokenize\n",
    "from nltk.stem import WordNetLemmatizer\n",
    "\n",
    "\n",
    "nltk.download(['punkt', 'wordnet', 'averaged_perceptron_tagger'])"
   ]
  },
  {
   "cell_type": "code",
   "execution_count": 6,
   "metadata": {},
   "outputs": [],
   "source": [
    "# load data from database\n",
    "engine = create_engine('sqlite:///DisasterResponse.db')\n",
    "df = pd.read_sql_table('phase1', con=engine)\n",
    "X = df['message']\n",
    "y = df.iloc[:,4:]"
   ]
  },
  {
   "cell_type": "markdown",
   "metadata": {},
   "source": [
    "### 2. Write a tokenization function to process your text data"
   ]
  },
  {
   "cell_type": "code",
   "execution_count": 7,
   "metadata": {},
   "outputs": [],
   "source": [
    "def tokenize(text):\n",
    "    url_regex = 'http[s]?://(?:[a-zA-Z]|[0-9]|[$-_@.&+]|[!*\\(\\),]|(?:%[0-9a-fA-F][0-9a-fA-F]))+'\n",
    "    detected_urls = re.findall(url_regex, text)\n",
    "    for url in detected_urls:\n",
    "        text = text.replace(url, \"urlplaceholder\")\n",
    "\n",
    "    tokens = word_tokenize(text)\n",
    "    lemmatizer = WordNetLemmatizer()\n",
    "\n",
    "    clean_tokens = []\n",
    "    for tok in tokens:\n",
    "        clean_tok = lemmatizer.lemmatize(tok).lower().strip()\n",
    "        clean_tokens.append(clean_tok)\n",
    "\n",
    "    return clean_tokens"
   ]
  },
  {
   "cell_type": "markdown",
   "metadata": {},
   "source": [
    "### 3. Build a machine learning pipeline\n",
    "This machine pipeline should take in the `message` column as input and output classification results on the other 36 categories in the dataset. You may find the [MultiOutputClassifier](http://scikit-learn.org/stable/modules/generated/sklearn.multioutput.MultiOutputClassifier.html) helpful for predicting multiple target variables."
   ]
  },
  {
   "cell_type": "code",
   "execution_count": 8,
   "metadata": {},
   "outputs": [],
   "source": [
    "pipeline = Pipeline([\n",
    "    ('vect', CountVectorizer(tokenizer=tokenize)),\n",
    "    ('tfidf', TfidfTransformer()),\n",
    "    ('clf', MultiOutputClassifier(RandomForestClassifier()))\n",
    "    ])"
   ]
  },
  {
   "cell_type": "markdown",
   "metadata": {},
   "source": [
    "### 4. Train pipeline\n",
    "- Split data into train and test sets\n",
    "- Train pipeline"
   ]
  },
  {
   "cell_type": "code",
   "execution_count": 9,
   "metadata": {},
   "outputs": [
    {
     "name": "stderr",
     "output_type": "stream",
     "text": [
      "/opt/conda/lib/python3.6/site-packages/ipykernel_launcher.py:2: FutureWarning: Method .as_matrix will be removed in a future version. Use .values instead.\n",
      "  \n"
     ]
    }
   ],
   "source": [
    "X_train, X_test, y_train, y_test = train_test_split(X, y)\n",
    "model = pipeline.fit(X_train.as_matrix(), y_train.as_matrix())"
   ]
  },
  {
   "cell_type": "markdown",
   "metadata": {},
   "source": [
    "### 5. Test your model\n",
    "Report the f1 score, precision and recall for each output category of the dataset. You can do this by iterating through the columns and calling sklearn's `classification_report` on each."
   ]
  },
  {
   "cell_type": "code",
   "execution_count": 10,
   "metadata": {},
   "outputs": [],
   "source": [
    "def get_results(y_test, y_pred):\n",
    "    results = pd.DataFrame(columns=['Category', 'f_score', 'precision', 'recall'])\n",
    "    num = 0\n",
    "    for cat in y_test.columns:\n",
    "        precision, recall, f_score, support = precision_recall_fscore_support(y_test[cat], y_pred[:,num], average='weighted')\n",
    "        results.set_value(num+1, 'Category', cat)\n",
    "        results.set_value(num+1, 'f_score', f_score)\n",
    "        results.set_value(num+1, 'precision', precision)\n",
    "        results.set_value(num+1, 'recall', recall)\n",
    "        num += 1\n",
    "    print('Aggregated f_score:', results['f_score'].mean())\n",
    "    print('Aggregated precision:', results['precision'].mean())\n",
    "    print('Aggregated recall:', results['recall'].mean())\n",
    "    return results"
   ]
  },
  {
   "cell_type": "code",
   "execution_count": 13,
   "metadata": {
    "scrolled": true
   },
   "outputs": [
    {
     "name": "stdout",
     "output_type": "stream",
     "text": [
      "Aggregated f_score: 0.927803546926\n",
      "Aggregated precision: 0.931351795448\n",
      "Aggregated recall: 0.941778557624\n",
      "                  Category   f_score precision    recall\n",
      "1                  related  0.763075  0.762571  0.785017\n",
      "2                  request  0.862826  0.877609  0.882514\n",
      "3                    offer  0.993368   0.99117  0.995575\n",
      "4              aid_related  0.713677  0.723778  0.723528\n",
      "5             medical_help  0.889858    0.8961  0.918523\n",
      "6         medical_products  0.929971  0.941158  0.950717\n",
      "7        search_and_rescue    0.9651  0.967123  0.975435\n",
      "8                 security  0.974363  0.983056  0.982759\n",
      "9                 military  0.955138   0.95614  0.968264\n",
      "10             child_alone         1         1         1\n",
      "11                   water  0.933902  0.942666  0.948734\n",
      "12                    food  0.924019  0.925381  0.931187\n",
      "13                 shelter  0.912812  0.925371  0.930272\n",
      "14                clothing  0.977036  0.978981  0.983827\n",
      "15                   money    0.9668  0.971252  0.977113\n",
      "16          missing_people  0.983552  0.978149  0.989014\n",
      "17                refugees  0.956863  0.960391  0.969789\n",
      "18                   death   0.94375  0.951483  0.958651\n",
      "19               other_aid  0.815358  0.819869  0.868935\n",
      "20  infrastructure_related   0.90232  0.885795  0.933628\n",
      "21               transport  0.938091  0.949606  0.956668\n",
      "22               buildings  0.929237  0.943283  0.950565\n",
      "23             electricity  0.972192  0.975205  0.980165\n",
      "24                   tools  0.989408  0.986011  0.992829\n",
      "25               hospitals  0.986119   0.99063   0.99054\n",
      "26                   shops  0.994511   0.99269  0.996338\n",
      "27             aid_centers  0.983248  0.977846  0.988709\n",
      "28    other_infrastructure   0.92917  0.907327   0.95209\n",
      "29         weather_related  0.811867  0.824693  0.827739\n",
      "30                  floods  0.918976  0.933072  0.935612\n",
      "31                   storm  0.925816   0.92596  0.934391\n",
      "32                    fire  0.984464  0.979357  0.989625\n",
      "33              earthquake  0.952429  0.953565  0.956057\n",
      "34                    cold  0.972279  0.974818  0.980623\n",
      "35           other_weather  0.929986  0.939248  0.950717\n",
      "36           direct_report   0.81935  0.837311  0.847879\n"
     ]
    },
    {
     "name": "stderr",
     "output_type": "stream",
     "text": [
      "/opt/conda/lib/python3.6/site-packages/ipykernel_launcher.py:6: FutureWarning: set_value is deprecated and will be removed in a future release. Please use .at[] or .iat[] accessors instead\n",
      "  \n",
      "/opt/conda/lib/python3.6/site-packages/ipykernel_launcher.py:7: FutureWarning: set_value is deprecated and will be removed in a future release. Please use .at[] or .iat[] accessors instead\n",
      "  import sys\n",
      "/opt/conda/lib/python3.6/site-packages/ipykernel_launcher.py:8: FutureWarning: set_value is deprecated and will be removed in a future release. Please use .at[] or .iat[] accessors instead\n",
      "  \n",
      "/opt/conda/lib/python3.6/site-packages/ipykernel_launcher.py:9: FutureWarning: set_value is deprecated and will be removed in a future release. Please use .at[] or .iat[] accessors instead\n",
      "  if __name__ == '__main__':\n",
      "/opt/conda/lib/python3.6/site-packages/sklearn/metrics/classification.py:1135: UndefinedMetricWarning: Precision and F-score are ill-defined and being set to 0.0 in labels with no predicted samples.\n",
      "  'precision', 'predicted', average, warn_for)\n"
     ]
    }
   ],
   "source": [
    "y_pred = model.predict(X_test)\n",
    "results = get_results(y_test, y_pred)\n",
    "print(results)"
   ]
  },
  {
   "cell_type": "code",
   "execution_count": null,
   "metadata": {},
   "outputs": [],
   "source": [
    "for column in y_test.columns:\n",
    "    print('------------------------------------------------------\\n')\n",
    "    print('FEATURE: {}\\n'.format(column))\n",
    "    print(classification_report(y_test[column], y_pred[column]))"
   ]
  },
  {
   "cell_type": "markdown",
   "metadata": {},
   "source": [
    "### 6. Improve your model\n",
    "Use grid search to find better parameters. "
   ]
  },
  {
   "cell_type": "code",
   "execution_count": 14,
   "metadata": {
    "scrolled": true
   },
   "outputs": [
    {
     "data": {
      "text/plain": [
       "{'memory': None,\n",
       " 'steps': [('vect',\n",
       "   CountVectorizer(analyzer='word', binary=False, decode_error='strict',\n",
       "           dtype=<class 'numpy.int64'>, encoding='utf-8', input='content',\n",
       "           lowercase=True, max_df=1.0, max_features=None, min_df=1,\n",
       "           ngram_range=(1, 1), preprocessor=None, stop_words=None,\n",
       "           strip_accents=None, token_pattern='(?u)\\\\b\\\\w\\\\w+\\\\b',\n",
       "           tokenizer=<function tokenize at 0x7fa2819517b8>, vocabulary=None)),\n",
       "  ('tfidf',\n",
       "   TfidfTransformer(norm='l2', smooth_idf=True, sublinear_tf=False, use_idf=True)),\n",
       "  ('clf',\n",
       "   MultiOutputClassifier(estimator=RandomForestClassifier(bootstrap=True, class_weight=None, criterion='gini',\n",
       "               max_depth=None, max_features='auto', max_leaf_nodes=None,\n",
       "               min_impurity_decrease=0.0, min_impurity_split=None,\n",
       "               min_samples_leaf=1, min_samples_split=2,\n",
       "               min_weight_fraction_leaf=0.0, n_estimators=10, n_jobs=1,\n",
       "               oob_score=False, random_state=None, verbose=0,\n",
       "               warm_start=False),\n",
       "              n_jobs=1))],\n",
       " 'vect': CountVectorizer(analyzer='word', binary=False, decode_error='strict',\n",
       "         dtype=<class 'numpy.int64'>, encoding='utf-8', input='content',\n",
       "         lowercase=True, max_df=1.0, max_features=None, min_df=1,\n",
       "         ngram_range=(1, 1), preprocessor=None, stop_words=None,\n",
       "         strip_accents=None, token_pattern='(?u)\\\\b\\\\w\\\\w+\\\\b',\n",
       "         tokenizer=<function tokenize at 0x7fa2819517b8>, vocabulary=None),\n",
       " 'tfidf': TfidfTransformer(norm='l2', smooth_idf=True, sublinear_tf=False, use_idf=True),\n",
       " 'clf': MultiOutputClassifier(estimator=RandomForestClassifier(bootstrap=True, class_weight=None, criterion='gini',\n",
       "             max_depth=None, max_features='auto', max_leaf_nodes=None,\n",
       "             min_impurity_decrease=0.0, min_impurity_split=None,\n",
       "             min_samples_leaf=1, min_samples_split=2,\n",
       "             min_weight_fraction_leaf=0.0, n_estimators=10, n_jobs=1,\n",
       "             oob_score=False, random_state=None, verbose=0,\n",
       "             warm_start=False),\n",
       "            n_jobs=1),\n",
       " 'vect__analyzer': 'word',\n",
       " 'vect__binary': False,\n",
       " 'vect__decode_error': 'strict',\n",
       " 'vect__dtype': numpy.int64,\n",
       " 'vect__encoding': 'utf-8',\n",
       " 'vect__input': 'content',\n",
       " 'vect__lowercase': True,\n",
       " 'vect__max_df': 1.0,\n",
       " 'vect__max_features': None,\n",
       " 'vect__min_df': 1,\n",
       " 'vect__ngram_range': (1, 1),\n",
       " 'vect__preprocessor': None,\n",
       " 'vect__stop_words': None,\n",
       " 'vect__strip_accents': None,\n",
       " 'vect__token_pattern': '(?u)\\\\b\\\\w\\\\w+\\\\b',\n",
       " 'vect__tokenizer': <function __main__.tokenize(text)>,\n",
       " 'vect__vocabulary': None,\n",
       " 'tfidf__norm': 'l2',\n",
       " 'tfidf__smooth_idf': True,\n",
       " 'tfidf__sublinear_tf': False,\n",
       " 'tfidf__use_idf': True,\n",
       " 'clf__estimator__bootstrap': True,\n",
       " 'clf__estimator__class_weight': None,\n",
       " 'clf__estimator__criterion': 'gini',\n",
       " 'clf__estimator__max_depth': None,\n",
       " 'clf__estimator__max_features': 'auto',\n",
       " 'clf__estimator__max_leaf_nodes': None,\n",
       " 'clf__estimator__min_impurity_decrease': 0.0,\n",
       " 'clf__estimator__min_impurity_split': None,\n",
       " 'clf__estimator__min_samples_leaf': 1,\n",
       " 'clf__estimator__min_samples_split': 2,\n",
       " 'clf__estimator__min_weight_fraction_leaf': 0.0,\n",
       " 'clf__estimator__n_estimators': 10,\n",
       " 'clf__estimator__n_jobs': 1,\n",
       " 'clf__estimator__oob_score': False,\n",
       " 'clf__estimator__random_state': None,\n",
       " 'clf__estimator__verbose': 0,\n",
       " 'clf__estimator__warm_start': False,\n",
       " 'clf__estimator': RandomForestClassifier(bootstrap=True, class_weight=None, criterion='gini',\n",
       "             max_depth=None, max_features='auto', max_leaf_nodes=None,\n",
       "             min_impurity_decrease=0.0, min_impurity_split=None,\n",
       "             min_samples_leaf=1, min_samples_split=2,\n",
       "             min_weight_fraction_leaf=0.0, n_estimators=10, n_jobs=1,\n",
       "             oob_score=False, random_state=None, verbose=0,\n",
       "             warm_start=False),\n",
       " 'clf__n_jobs': 1}"
      ]
     },
     "execution_count": 14,
     "metadata": {},
     "output_type": "execute_result"
    }
   ],
   "source": [
    "model.get_params()"
   ]
  },
  {
   "cell_type": "code",
   "execution_count": 15,
   "metadata": {},
   "outputs": [],
   "source": [
    "parameters = {'clf__estimator__max_depth': [10, 50, None],\n",
    "              'clf__estimator__min_samples_leaf':[2, 5, 10]}\n",
    "\n",
    "cv = GridSearchCV(model, parameters)"
   ]
  },
  {
   "cell_type": "code",
   "execution_count": 16,
   "metadata": {},
   "outputs": [],
   "source": [
    "pipeline = Pipeline([\n",
    "    ('vect', CountVectorizer(tokenizer=tokenize)),\n",
    "    ('tfidf', TfidfTransformer()),\n",
    "    ('clf', MultiOutputClassifier(RandomForestClassifier()))\n",
    "    ])\n",
    "\n",
    "parameters = {'clf__estimator__max_depth': [10, 50, None],\n",
    "              'clf__estimator__min_samples_leaf':[2, 5, 10]}\n",
    "\n",
    "cv = GridSearchCV(model, parameters)"
   ]
  },
  {
   "cell_type": "markdown",
   "metadata": {},
   "source": [
    "### 7. Test your model\n",
    "Show the accuracy, precision, and recall of the tuned model.  \n",
    "\n",
    "Since this project focuses on code quality, process, and  pipelines, there is no minimum performance metric needed to pass. However, make sure to fine tune your models for accuracy, precision and recall to make your project stand out - especially for your portfolio!"
   ]
  },
  {
   "cell_type": "code",
   "execution_count": 17,
   "metadata": {
    "scrolled": true
   },
   "outputs": [
    {
     "name": "stderr",
     "output_type": "stream",
     "text": [
      "/opt/conda/lib/python3.6/site-packages/ipykernel_launcher.py:1: FutureWarning: Method .as_matrix will be removed in a future version. Use .values instead.\n",
      "  \"\"\"Entry point for launching an IPython kernel.\n"
     ]
    },
    {
     "name": "stdout",
     "output_type": "stream",
     "text": [
      "Aggregated f_score: 0.924678335408\n",
      "Aggregated precision: 0.932230896803\n",
      "Aggregated recall: 0.941553928051\n"
     ]
    },
    {
     "name": "stderr",
     "output_type": "stream",
     "text": [
      "/opt/conda/lib/python3.6/site-packages/ipykernel_launcher.py:6: FutureWarning: set_value is deprecated and will be removed in a future release. Please use .at[] or .iat[] accessors instead\n",
      "  \n",
      "/opt/conda/lib/python3.6/site-packages/ipykernel_launcher.py:7: FutureWarning: set_value is deprecated and will be removed in a future release. Please use .at[] or .iat[] accessors instead\n",
      "  import sys\n",
      "/opt/conda/lib/python3.6/site-packages/ipykernel_launcher.py:8: FutureWarning: set_value is deprecated and will be removed in a future release. Please use .at[] or .iat[] accessors instead\n",
      "  \n",
      "/opt/conda/lib/python3.6/site-packages/ipykernel_launcher.py:9: FutureWarning: set_value is deprecated and will be removed in a future release. Please use .at[] or .iat[] accessors instead\n",
      "  if __name__ == '__main__':\n",
      "/opt/conda/lib/python3.6/site-packages/sklearn/metrics/classification.py:1135: UndefinedMetricWarning: Precision and F-score are ill-defined and being set to 0.0 in labels with no predicted samples.\n",
      "  'precision', 'predicted', average, warn_for)\n"
     ]
    },
    {
     "data": {
      "text/html": [
       "<div>\n",
       "<style scoped>\n",
       "    .dataframe tbody tr th:only-of-type {\n",
       "        vertical-align: middle;\n",
       "    }\n",
       "\n",
       "    .dataframe tbody tr th {\n",
       "        vertical-align: top;\n",
       "    }\n",
       "\n",
       "    .dataframe thead th {\n",
       "        text-align: right;\n",
       "    }\n",
       "</style>\n",
       "<table border=\"1\" class=\"dataframe\">\n",
       "  <thead>\n",
       "    <tr style=\"text-align: right;\">\n",
       "      <th></th>\n",
       "      <th>Category</th>\n",
       "      <th>f_score</th>\n",
       "      <th>precision</th>\n",
       "      <th>recall</th>\n",
       "    </tr>\n",
       "  </thead>\n",
       "  <tbody>\n",
       "    <tr>\n",
       "      <th>1</th>\n",
       "      <td>related</td>\n",
       "      <td>0.741809</td>\n",
       "      <td>0.772633</td>\n",
       "      <td>0.788374</td>\n",
       "    </tr>\n",
       "    <tr>\n",
       "      <th>2</th>\n",
       "      <td>request</td>\n",
       "      <td>0.850644</td>\n",
       "      <td>0.876961</td>\n",
       "      <td>0.876869</td>\n",
       "    </tr>\n",
       "    <tr>\n",
       "      <th>3</th>\n",
       "      <td>offer</td>\n",
       "      <td>0.993368</td>\n",
       "      <td>0.99117</td>\n",
       "      <td>0.995575</td>\n",
       "    </tr>\n",
       "    <tr>\n",
       "      <th>4</th>\n",
       "      <td>aid_related</td>\n",
       "      <td>0.741231</td>\n",
       "      <td>0.742913</td>\n",
       "      <td>0.745041</td>\n",
       "    </tr>\n",
       "    <tr>\n",
       "      <th>5</th>\n",
       "      <td>medical_help</td>\n",
       "      <td>0.88018</td>\n",
       "      <td>0.890989</td>\n",
       "      <td>0.91654</td>\n",
       "    </tr>\n",
       "    <tr>\n",
       "      <th>6</th>\n",
       "      <td>medical_products</td>\n",
       "      <td>0.925256</td>\n",
       "      <td>0.930121</td>\n",
       "      <td>0.949039</td>\n",
       "    </tr>\n",
       "    <tr>\n",
       "      <th>7</th>\n",
       "      <td>search_and_rescue</td>\n",
       "      <td>0.963665</td>\n",
       "      <td>0.969779</td>\n",
       "      <td>0.975282</td>\n",
       "    </tr>\n",
       "    <tr>\n",
       "      <th>8</th>\n",
       "      <td>security</td>\n",
       "      <td>0.973985</td>\n",
       "      <td>0.965515</td>\n",
       "      <td>0.982606</td>\n",
       "    </tr>\n",
       "    <tr>\n",
       "      <th>9</th>\n",
       "      <td>military</td>\n",
       "      <td>0.955233</td>\n",
       "      <td>0.96225</td>\n",
       "      <td>0.968874</td>\n",
       "    </tr>\n",
       "    <tr>\n",
       "      <th>10</th>\n",
       "      <td>child_alone</td>\n",
       "      <td>1</td>\n",
       "      <td>1</td>\n",
       "      <td>1</td>\n",
       "    </tr>\n",
       "    <tr>\n",
       "      <th>11</th>\n",
       "      <td>water</td>\n",
       "      <td>0.923546</td>\n",
       "      <td>0.937086</td>\n",
       "      <td>0.944156</td>\n",
       "    </tr>\n",
       "    <tr>\n",
       "      <th>12</th>\n",
       "      <td>food</td>\n",
       "      <td>0.877946</td>\n",
       "      <td>0.899197</td>\n",
       "      <td>0.905859</td>\n",
       "    </tr>\n",
       "    <tr>\n",
       "      <th>13</th>\n",
       "      <td>shelter</td>\n",
       "      <td>0.886708</td>\n",
       "      <td>0.911993</td>\n",
       "      <td>0.917913</td>\n",
       "    </tr>\n",
       "    <tr>\n",
       "      <th>14</th>\n",
       "      <td>clothing</td>\n",
       "      <td>0.976239</td>\n",
       "      <td>0.984088</td>\n",
       "      <td>0.983827</td>\n",
       "    </tr>\n",
       "    <tr>\n",
       "      <th>15</th>\n",
       "      <td>money</td>\n",
       "      <td>0.965121</td>\n",
       "      <td>0.953856</td>\n",
       "      <td>0.976655</td>\n",
       "    </tr>\n",
       "    <tr>\n",
       "      <th>16</th>\n",
       "      <td>missing_people</td>\n",
       "      <td>0.983552</td>\n",
       "      <td>0.978149</td>\n",
       "      <td>0.989014</td>\n",
       "    </tr>\n",
       "    <tr>\n",
       "      <th>17</th>\n",
       "      <td>refugees</td>\n",
       "      <td>0.95401</td>\n",
       "      <td>0.939308</td>\n",
       "      <td>0.969179</td>\n",
       "    </tr>\n",
       "    <tr>\n",
       "      <th>18</th>\n",
       "      <td>death</td>\n",
       "      <td>0.937572</td>\n",
       "      <td>0.952814</td>\n",
       "      <td>0.956668</td>\n",
       "    </tr>\n",
       "    <tr>\n",
       "      <th>19</th>\n",
       "      <td>other_aid</td>\n",
       "      <td>0.810053</td>\n",
       "      <td>0.860774</td>\n",
       "      <td>0.86985</td>\n",
       "    </tr>\n",
       "    <tr>\n",
       "      <th>20</th>\n",
       "      <td>infrastructure_related</td>\n",
       "      <td>0.902628</td>\n",
       "      <td>0.938564</td>\n",
       "      <td>0.934239</td>\n",
       "    </tr>\n",
       "    <tr>\n",
       "      <th>21</th>\n",
       "      <td>transport</td>\n",
       "      <td>0.938001</td>\n",
       "      <td>0.947823</td>\n",
       "      <td>0.956515</td>\n",
       "    </tr>\n",
       "    <tr>\n",
       "      <th>22</th>\n",
       "      <td>buildings</td>\n",
       "      <td>0.928361</td>\n",
       "      <td>0.946301</td>\n",
       "      <td>0.950412</td>\n",
       "    </tr>\n",
       "    <tr>\n",
       "      <th>23</th>\n",
       "      <td>electricity</td>\n",
       "      <td>0.969282</td>\n",
       "      <td>0.969448</td>\n",
       "      <td>0.979249</td>\n",
       "    </tr>\n",
       "    <tr>\n",
       "      <th>24</th>\n",
       "      <td>tools</td>\n",
       "      <td>0.989484</td>\n",
       "      <td>0.986012</td>\n",
       "      <td>0.992981</td>\n",
       "    </tr>\n",
       "    <tr>\n",
       "      <th>25</th>\n",
       "      <td>hospitals</td>\n",
       "      <td>0.985376</td>\n",
       "      <td>0.980565</td>\n",
       "      <td>0.990235</td>\n",
       "    </tr>\n",
       "    <tr>\n",
       "      <th>26</th>\n",
       "      <td>shops</td>\n",
       "      <td>0.994511</td>\n",
       "      <td>0.99269</td>\n",
       "      <td>0.996338</td>\n",
       "    </tr>\n",
       "    <tr>\n",
       "      <th>27</th>\n",
       "      <td>aid_centers</td>\n",
       "      <td>0.983324</td>\n",
       "      <td>0.977848</td>\n",
       "      <td>0.988862</td>\n",
       "    </tr>\n",
       "    <tr>\n",
       "      <th>28</th>\n",
       "      <td>other_infrastructure</td>\n",
       "      <td>0.929399</td>\n",
       "      <td>0.907348</td>\n",
       "      <td>0.952548</td>\n",
       "    </tr>\n",
       "    <tr>\n",
       "      <th>29</th>\n",
       "      <td>weather_related</td>\n",
       "      <td>0.852913</td>\n",
       "      <td>0.857621</td>\n",
       "      <td>0.860391</td>\n",
       "    </tr>\n",
       "    <tr>\n",
       "      <th>30</th>\n",
       "      <td>floods</td>\n",
       "      <td>0.910196</td>\n",
       "      <td>0.930741</td>\n",
       "      <td>0.93134</td>\n",
       "    </tr>\n",
       "    <tr>\n",
       "      <th>31</th>\n",
       "      <td>storm</td>\n",
       "      <td>0.923244</td>\n",
       "      <td>0.926186</td>\n",
       "      <td>0.934239</td>\n",
       "    </tr>\n",
       "    <tr>\n",
       "      <th>32</th>\n",
       "      <td>fire</td>\n",
       "      <td>0.984464</td>\n",
       "      <td>0.979357</td>\n",
       "      <td>0.989625</td>\n",
       "    </tr>\n",
       "    <tr>\n",
       "      <th>33</th>\n",
       "      <td>earthquake</td>\n",
       "      <td>0.9428</td>\n",
       "      <td>0.946203</td>\n",
       "      <td>0.949039</td>\n",
       "    </tr>\n",
       "    <tr>\n",
       "      <th>34</th>\n",
       "      <td>cold</td>\n",
       "      <td>0.971466</td>\n",
       "      <td>0.980998</td>\n",
       "      <td>0.980623</td>\n",
       "    </tr>\n",
       "    <tr>\n",
       "      <th>35</th>\n",
       "      <td>other_weather</td>\n",
       "      <td>0.925705</td>\n",
       "      <td>0.930526</td>\n",
       "      <td>0.949344</td>\n",
       "    </tr>\n",
       "    <tr>\n",
       "      <th>36</th>\n",
       "      <td>direct_report</td>\n",
       "      <td>0.817147</td>\n",
       "      <td>0.842486</td>\n",
       "      <td>0.848642</td>\n",
       "    </tr>\n",
       "  </tbody>\n",
       "</table>\n",
       "</div>"
      ],
      "text/plain": [
       "                  Category   f_score precision    recall\n",
       "1                  related  0.741809  0.772633  0.788374\n",
       "2                  request  0.850644  0.876961  0.876869\n",
       "3                    offer  0.993368   0.99117  0.995575\n",
       "4              aid_related  0.741231  0.742913  0.745041\n",
       "5             medical_help   0.88018  0.890989   0.91654\n",
       "6         medical_products  0.925256  0.930121  0.949039\n",
       "7        search_and_rescue  0.963665  0.969779  0.975282\n",
       "8                 security  0.973985  0.965515  0.982606\n",
       "9                 military  0.955233   0.96225  0.968874\n",
       "10             child_alone         1         1         1\n",
       "11                   water  0.923546  0.937086  0.944156\n",
       "12                    food  0.877946  0.899197  0.905859\n",
       "13                 shelter  0.886708  0.911993  0.917913\n",
       "14                clothing  0.976239  0.984088  0.983827\n",
       "15                   money  0.965121  0.953856  0.976655\n",
       "16          missing_people  0.983552  0.978149  0.989014\n",
       "17                refugees   0.95401  0.939308  0.969179\n",
       "18                   death  0.937572  0.952814  0.956668\n",
       "19               other_aid  0.810053  0.860774   0.86985\n",
       "20  infrastructure_related  0.902628  0.938564  0.934239\n",
       "21               transport  0.938001  0.947823  0.956515\n",
       "22               buildings  0.928361  0.946301  0.950412\n",
       "23             electricity  0.969282  0.969448  0.979249\n",
       "24                   tools  0.989484  0.986012  0.992981\n",
       "25               hospitals  0.985376  0.980565  0.990235\n",
       "26                   shops  0.994511   0.99269  0.996338\n",
       "27             aid_centers  0.983324  0.977848  0.988862\n",
       "28    other_infrastructure  0.929399  0.907348  0.952548\n",
       "29         weather_related  0.852913  0.857621  0.860391\n",
       "30                  floods  0.910196  0.930741   0.93134\n",
       "31                   storm  0.923244  0.926186  0.934239\n",
       "32                    fire  0.984464  0.979357  0.989625\n",
       "33              earthquake    0.9428  0.946203  0.949039\n",
       "34                    cold  0.971466  0.980998  0.980623\n",
       "35           other_weather  0.925705  0.930526  0.949344\n",
       "36           direct_report  0.817147  0.842486  0.848642"
      ]
     },
     "execution_count": 17,
     "metadata": {},
     "output_type": "execute_result"
    }
   ],
   "source": [
    "cv.fit(X_train.as_matrix(), y_train.as_matrix())\n",
    "y_pred = cv.predict(X_test)\n",
    "results2 = get_results(y_test, y_pred)\n",
    "results2"
   ]
  },
  {
   "cell_type": "markdown",
   "metadata": {},
   "source": [
    "### 8. Try improving your model further. Here are a few ideas:\n",
    "* try other machine learning algorithms\n",
    "* add other features besides the TF-IDF"
   ]
  },
  {
   "cell_type": "code",
   "execution_count": 19,
   "metadata": {},
   "outputs": [],
   "source": [
    "class StartingVerbExtractor(BaseEstimator, TransformerMixin):\n",
    "\n",
    "    def starting_verb(self, text):\n",
    "        sentence_list = nltk.sent_tokenize(text)\n",
    "        for sentence in sentence_list:\n",
    "            pos_tags = nltk.pos_tag(tokenize(sentence))\n",
    "            first_word, first_tag = pos_tags[0]\n",
    "            if first_tag in ['VB', 'VBP'] or first_word == 'RT':\n",
    "                return True\n",
    "        return False\n",
    "\n",
    "    def fit(self, X, y=None):\n",
    "        return self\n",
    "\n",
    "    def transform(self, X):\n",
    "        X_tagged = pd.Series(X).apply(self.starting_verb)\n",
    "        return pd.DataFrame(X_tagged)"
   ]
  },
  {
   "cell_type": "code",
   "execution_count": 22,
   "metadata": {},
   "outputs": [],
   "source": [
    "improved_model = Pipeline([\n",
    "        ('features', FeatureUnion([\n",
    "\n",
    "            ('text_pipeline', Pipeline([\n",
    "                ('vect', CountVectorizer(tokenizer=tokenize)),\n",
    "                ('tfidf', TfidfTransformer())\n",
    "            ])),\n",
    "\n",
    "            ('starting_verb', StartingVerbExtractor())\n",
    "        ])),\n",
    "\n",
    "        ('clf', MultiOutputClassifier(RandomForestClassifier()))\n",
    "    ])"
   ]
  },
  {
   "cell_type": "code",
   "execution_count": 23,
   "metadata": {
    "scrolled": true
   },
   "outputs": [
    {
     "name": "stderr",
     "output_type": "stream",
     "text": [
      "/opt/conda/lib/python3.6/site-packages/ipykernel_launcher.py:1: FutureWarning: Method .as_matrix will be removed in a future version. Use .values instead.\n",
      "  \"\"\"Entry point for launching an IPython kernel.\n"
     ]
    },
    {
     "name": "stdout",
     "output_type": "stream",
     "text": [
      "Aggregated f_score: 0.927836830249\n",
      "Aggregated precision: 0.9310142299\n",
      "Aggregated recall: 0.941977757434\n",
      "                  Category   f_score precision    recall\n",
      "1                  related  0.772745    0.7744  0.794019\n",
      "2                  request  0.866941  0.879765  0.884956\n",
      "3                    offer  0.993368   0.99117  0.995575\n",
      "4              aid_related  0.710815  0.725121  0.722765\n",
      "5             medical_help  0.885486  0.895108   0.91776\n",
      "6         medical_products  0.930347  0.934759  0.950107\n",
      "7        search_and_rescue  0.964147  0.962147  0.974672\n",
      "8                 security  0.973985  0.965515  0.982606\n",
      "9                 military  0.956304  0.957596  0.968569\n",
      "10             child_alone         1         1         1\n",
      "11                   water  0.935704  0.943887  0.949649\n",
      "12                    food  0.902459  0.911691   0.91837\n",
      "13                 shelter  0.909194  0.917139  0.926762\n",
      "14                clothing  0.976169  0.974985  0.983216\n",
      "15                   money  0.965997  0.965955  0.976655\n",
      "16          missing_people  0.983552  0.978149  0.989014\n",
      "17                refugees  0.957619  0.959489  0.969789\n",
      "18                   death  0.940567  0.954667  0.957888\n",
      "19               other_aid  0.815611  0.823616  0.869393\n",
      "20  infrastructure_related  0.902474  0.894602  0.933933\n",
      "21               transport  0.939214  0.953078  0.957278\n",
      "22               buildings  0.932946  0.941189   0.95148\n",
      "23             electricity  0.970655  0.974477  0.979707\n",
      "24                   tools  0.989484  0.986012  0.992981\n",
      "25               hospitals  0.985376  0.980565  0.990235\n",
      "26                   shops  0.994511   0.99269  0.996338\n",
      "27             aid_centers  0.983248  0.977846  0.988709\n",
      "28    other_infrastructure  0.929621   0.92329  0.952395\n",
      "29         weather_related  0.826174  0.834721  0.838267\n",
      "30                  floods  0.925669   0.93695  0.939426\n",
      "31                   storm  0.920907  0.922329  0.931797\n",
      "32                    fire  0.984464  0.979357  0.989625\n",
      "33              earthquake  0.949958  0.952296  0.954532\n",
      "34                    cold  0.973059   0.97776   0.98108\n",
      "35           other_weather  0.926356  0.932246  0.949496\n",
      "36           direct_report  0.826999  0.841946  0.852151\n"
     ]
    },
    {
     "name": "stderr",
     "output_type": "stream",
     "text": [
      "/opt/conda/lib/python3.6/site-packages/ipykernel_launcher.py:6: FutureWarning: set_value is deprecated and will be removed in a future release. Please use .at[] or .iat[] accessors instead\n",
      "  \n",
      "/opt/conda/lib/python3.6/site-packages/ipykernel_launcher.py:7: FutureWarning: set_value is deprecated and will be removed in a future release. Please use .at[] or .iat[] accessors instead\n",
      "  import sys\n",
      "/opt/conda/lib/python3.6/site-packages/ipykernel_launcher.py:8: FutureWarning: set_value is deprecated and will be removed in a future release. Please use .at[] or .iat[] accessors instead\n",
      "  \n",
      "/opt/conda/lib/python3.6/site-packages/ipykernel_launcher.py:9: FutureWarning: set_value is deprecated and will be removed in a future release. Please use .at[] or .iat[] accessors instead\n",
      "  if __name__ == '__main__':\n",
      "/opt/conda/lib/python3.6/site-packages/sklearn/metrics/classification.py:1135: UndefinedMetricWarning: Precision and F-score are ill-defined and being set to 0.0 in labels with no predicted samples.\n",
      "  'precision', 'predicted', average, warn_for)\n"
     ]
    }
   ],
   "source": [
    "improved_model = improved_model.fit(X_train.as_matrix(), y_train.as_matrix())\n",
    "improved_y_pred = improved_model.predict(X_test)\n",
    "improved_results = get_results(y_test, improved_y_pred)\n",
    "print(improved_results)"
   ]
  },
  {
   "cell_type": "markdown",
   "metadata": {},
   "source": [
    "### actually it didnt improved, so i think we already hitted the maximum accuracy "
   ]
  },
  {
   "cell_type": "markdown",
   "metadata": {},
   "source": [
    "### 9. Export your model as a pickle file"
   ]
  },
  {
   "cell_type": "code",
   "execution_count": 24,
   "metadata": {},
   "outputs": [],
   "source": [
    "pickle.dump(cv, open('classifier.pkl', 'wb'))"
   ]
  },
  {
   "cell_type": "markdown",
   "metadata": {},
   "source": [
    "### 10. Use this notebook to complete `train.py`\n",
    "Use the template file attached in the Resources folder to write a script that runs the steps above to create a database and export a model based on a new dataset specified by the user."
   ]
  },
  {
   "cell_type": "code",
   "execution_count": null,
   "metadata": {},
   "outputs": [],
   "source": []
  }
 ],
 "metadata": {
  "kernelspec": {
   "display_name": "Python 3",
   "language": "python",
   "name": "python3"
  },
  "language_info": {
   "codemirror_mode": {
    "name": "ipython",
    "version": 3
   },
   "file_extension": ".py",
   "mimetype": "text/x-python",
   "name": "python",
   "nbconvert_exporter": "python",
   "pygments_lexer": "ipython3",
   "version": "3.7.3"
  }
 },
 "nbformat": 4,
 "nbformat_minor": 2
}
